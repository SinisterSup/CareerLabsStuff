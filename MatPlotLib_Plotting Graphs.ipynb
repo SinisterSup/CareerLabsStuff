{
 "cells": [
  {
   "cell_type": "markdown",
   "id": "5e1658a5",
   "metadata": {},
   "source": [
    "## Assignment Questions"
   ]
  },
  {
   "cell_type": "markdown",
   "id": "54cd29bb",
   "metadata": {},
   "source": [
    "### 1.Plot Job_Year\n",
    "\n",
    "Problem Statement :   \n",
    "Plot the line graph between no. of Job postings with respect to year.   \n",
    "Print the year and the number of job posting as integer value.   \n",
    "Note: Year should be in ascending order.   \n",
    "Output Format :   \n",
    "year1 job_posting1   \n",
    "year2 job_posting2   \n",
    ". . .    \n",
    ". . .   \n",
    ". . .   "
   ]
  },
  {
   "cell_type": "code",
   "execution_count": null,
   "id": "38fab5c8",
   "metadata": {},
   "outputs": [],
   "source": [
    "import numpy as np\n",
    "import matplotlib.pyplot as plt\n",
    "import csv\n",
    "\n",
    "with open('DataSets/amazon_jobs_dataset.csv',encoding = \"utf-8\") as file_obj:\n",
    "    file_data = csv.DictReader(file_obj,skipinitialspace = True)\n",
    "    file_list = list(file_data)\n",
    "\n",
    "count_year = [0,0,0,0,0,0,0,0]\n",
    "yr_list = []\n",
    "\n",
    "for row in file_list:\n",
    "    year = int(row['Posting_date'].split(',')[1])\n",
    "    yr_list.append(year)\n",
    "    if year == 2011:\n",
    "        count_year[0] = count_year[0] + 1\n",
    "    elif year == 2012:\n",
    "        count_year[1] = count_year[1] + 1\n",
    "    elif year == 2013:\n",
    "        count_year[2] = count_year[2] + 1\n",
    "    elif year == 2014:\n",
    "        count_year[3] = count_year[3] + 1\n",
    "    elif year == 2015:\n",
    "        count_year[4] = count_year[4] + 1\n",
    "    elif year == 2016:\n",
    "        count_year[5] = count_year[5] + 1\n",
    "    elif year == 2017:\n",
    "        count_year[6] = count_year[6] + 1\n",
    "    elif year == 2018:\n",
    "        count_year[7] = count_year[7] + 1\n",
    "    \n",
    "yr = list(sorted(set(yr_list)))\n",
    "\n",
    "plt.plot(yr, count_year)\n",
    "plt.xlabel(\"Year\")\n",
    "plt.ylabel(\"No. of Job Postings\")\n",
    "plt.grid()\n",
    "plt.show()\n",
    "\n",
    "for i in range(len(yr)):\n",
    "    print(yr[i],count_year[i])"
   ]
  },
  {
   "cell_type": "markdown",
   "id": "9d2113e3",
   "metadata": {},
   "source": [
    "### 2.Plot Month_Job\n",
    "Problem Statement :   \n",
    "Plot the Bar graph between Month vs Job Openings.    \n",
    "Print the month name and the number of job posting as integer value.    \n",
    "Order of months doesn't matter.   \n",
    "Output Format :   \n",
    "month_name1 job_posting1   \n",
    "month_name2 job_posting2   \n",
    ". . .   \n",
    ". . .   \n",
    ". . .   "
   ]
  },
  {
   "cell_type": "code",
   "execution_count": 2,
   "id": "1b5c8b2d",
   "metadata": {},
   "outputs": [
    {
     "data": {
      "image/png": "[encoded data removed]",
      "text/plain": [
       "<Figure size 432x288 with 1 Axes>"
      ]
     },
     "metadata": {
      "needs_background": "light"
     },
     "output_type": "display_data"
    },
    {
     "name": "stdout",
     "output_type": "stream",
     "text": [
      "January 961\n",
      "February 869\n",
      "March 78\n",
      "April 58\n",
      "May 108\n",
      "June 99\n",
      "July 95\n",
      "August 153\n",
      "September 165\n",
      "October 243\n",
      "November 271\n",
      "December 393\n"
     ]
    }
   ],
   "source": [
    "import numpy as np\n",
    "import matplotlib.pyplot as plt\n",
    "import csv\n",
    "\n",
    "with open('DataSets/amazon_jobs_dataset.csv',encoding = \"utf-8\") as file_obj:\n",
    "    file_data = csv.DictReader(file_obj,skipinitialspace = True)\n",
    "    file_list = list(file_data)\n",
    "\n",
    "count = [0 for i in range(12)]\n",
    "\n",
    "\n",
    "for row in file_list:\n",
    "    month = row['Posting_date'].split()[0]\n",
    "    \n",
    "    if 'Jan' in month:\n",
    "        count[0] = count[0] + 1\n",
    "    elif 'Feb' in month:\n",
    "        count[1] = count[1] + 1\n",
    "    elif 'Mar' in month:\n",
    "        count[2] = count[2] + 1\n",
    "    elif 'Apr' in month:\n",
    "        count[3] = count[3] + 1\n",
    "    elif 'May' in month:\n",
    "        count[4] = count[4] + 1\n",
    "    elif 'Jun' in month:\n",
    "        count[5] = count[5] + 1\n",
    "    elif 'Jul' in month:\n",
    "        count[6] = count[6] + 1\n",
    "    elif 'Aug' in month:\n",
    "        count[7] = count[7] + 1\n",
    "    elif 'Sep' in month:\n",
    "        count[8] = count[8] + 1\n",
    "    elif 'Oct' in month:\n",
    "        count[9] = count[9] + 1\n",
    "    elif 'Nov' in month:\n",
    "        count[10] = count[10] + 1\n",
    "    elif 'Dec' in month:\n",
    "        count[11] = count[11] + 1\n",
    "    \n",
    "mnth = ['January', 'February', 'March', 'April', 'May', 'June', \n",
    "          'July','August','September','October','November','December']\n",
    "\n",
    "plt.plot(mnth, count)\n",
    "plt.xlabel(\"Month\")\n",
    "plt.ylabel(\"No. of Job Postings\")\n",
    "plt.xticks(rotation=30)\n",
    "plt.grid()\n",
    "plt.show()\n",
    "\n",
    "for i in range(len(count)):\n",
    "    print(mnth[i],count[i])"
   ]
  },
  {
   "cell_type": "markdown",
   "id": "5c2e4648",
   "metadata": {},
   "source": [
    "### 3.Plot city_job\n",
    "Problem Statement :   \n",
    "Plot the Pie chart between Indian cities vs No. of jobs opening.   \n",
    "Print the Indian cities and %age of Job distribution in India upto 2 decimal places.   \n",
    "Note: %age of Job distribution should be in descending order.    \n",
    "Output Format :    \n",
    "city1 percentage1   \n",
    "city2 percentage2   \n",
    ". . .    \n",
    ". . .   \n",
    ". . .   "
   ]
  },
  {
   "cell_type": "code",
   "execution_count": 1,
   "id": "6cfa90f7",
   "metadata": {},
   "outputs": [
    {
     "data": {
      "image/png": "[encoded data removed]",
      "text/plain": [
       "<Figure size 432x288 with 1 Axes>"
      ]
     },
     "metadata": {},
     "output_type": "display_data"
    },
    {
     "name": "stdout",
     "output_type": "stream",
     "text": [
      "Bangalore 46.81\n",
      "Chennai 23.40\n",
      "Gurgaon 3.55\n",
      "Hyderabad 25.53\n",
      "Pune 0.71\n"
     ]
    }
   ],
   "source": [
    "import numpy as np\n",
    "import matplotlib.pyplot as plt\n",
    "import csv\n",
    "\n",
    "with open('DataSets/amazon_jobs_dataset.csv',encoding = \"utf-8\") as file_obj:\n",
    "    file_data = csv.DictReader(file_obj,skipinitialspace = True)\n",
    "    file_list = list(file_data)\n",
    "file_arr = np.array(file_list)\n",
    "\n",
    "count = [0,0,0,0,0]\n",
    "city_list = []\n",
    "\n",
    "for row in file_arr:\n",
    "    loc = row['location'].split(', ')\n",
    "    if 'IN' in loc[0]:\n",
    "        city_list.append(loc[-1].strip())\n",
    "city = np.array(sorted(set(city_list)))\n",
    "\n",
    "for row in file_arr:\n",
    "    loc_city = row['location'].split(', ')[-1].strip()\n",
    "    if 'Bangalore' in loc_city:\n",
    "        count[0] = count[0] + 1\n",
    "    elif 'Chennai' in loc_city:\n",
    "        count[1] = count[1] + 1\n",
    "    elif 'Gurgaon' in loc_city:\n",
    "        count[2] = count[2] + 1\n",
    "    elif 'Hyderabad' in loc_city:\n",
    "        count[3] = count[3] + 1\n",
    "    elif 'Pune' in loc_city:\n",
    "        count[4] = count[4] + 1\n",
    "\n",
    "x = city\n",
    "plt.axis(\"equal\")\n",
    "plt.pie(count,autopct =\"%.2f%%\")\n",
    "plt.show()\n",
    "per = np.divide(count,sum(count))*100\n",
    "for i in range(len(count)):\n",
    "    print(x[i],format(per[i],'.2f'))"
   ]
  },
  {
   "cell_type": "markdown",
   "id": "cc616295",
   "metadata": {},
   "source": [
    "### 4.Plot Job_Java\n",
    "Problem Statement :  \n",
    "Plot the scatter graph between year vs No. of jobs opening related to Java.  \n",
    "Print the year and number of Jobs opening in Java Profile.  \n",
    "Note: Use the Keyword 'Java' or 'java' in Basic Qualification feature for finding the job opening related to Java Profile. Print the year in ascending order.  \n",
    "Output Format :  \n",
    "year1 JobOpening1  \n",
    "year2 JobOpening2  \n",
    ". . .   \n",
    ". . .  \n",
    ". . .  "
   ]
  },
  {
   "cell_type": "code",
   "execution_count": null,
   "id": "00ab628b",
   "metadata": {},
   "outputs": [],
   "source": [
    "import numpy as np\n",
    "import matplotlib.pyplot as plt\n",
    "import csv\n",
    "\n",
    "with open('DataSets/amazon_jobs_dataset.csv',encoding = \"utf-8\") as file_obj:\n",
    "    file_data = csv.DictReader(file_obj,skipinitialspace = True)\n",
    "    file_list = list(file_data)\n",
    "\n",
    "count_year = [0,0,0,0,0,0,0,0]\n",
    "yr_list = []\n",
    "    \n",
    "for row in file_list:\n",
    "    quali = row['BASIC QUALIFICATIONS']\n",
    "    year = int(row['Posting_date'].split('-')[2])\n",
    "    yr_list.append(year)\n",
    "    if year == 2011 and ('Java'in quali or 'java'in quali):\n",
    "        count_year[0] = count_year[0] + 1\n",
    "    elif year == 2012 and ('Java'in quali or 'java'in quali):\n",
    "        count_year[1] = count_year[1] + 1\n",
    "    elif year == 2013 and ('Java'in quali or 'java'in quali):\n",
    "        count_year[2] = count_year[2] + 1\n",
    "    elif year == 2014 and ('Java'in quali or 'java'in quali):\n",
    "        count_year[3] = count_year[3] + 1\n",
    "    elif year == 2015 and ('Java'in quali or 'java'in quali):\n",
    "        count_year[4] = count_year[4] + 1\n",
    "    elif year == 2016 and ('Java'in quali or 'java'in quali):\n",
    "        count_year[5] = count_year[5] + 1\n",
    "    elif year == 2017 and ('Java'in quali or 'java'in quali):\n",
    "        count_year[6] = count_year[6] + 1\n",
    "    elif year == 2018 and ('Java'in quali or 'java'in quali):\n",
    "        count_year[7] = count_year[7] + 1\n",
    "    \n",
    "yr = list(sorted(set(yr_list)))\n",
    "\n",
    "plt.scatter(yr, count_year,c = list(range(len(yr))))\n",
    "plt.xlabel('Year')\n",
    "plt.ylabel('Job_Postings')\n",
    "plt.show()\n",
    "\n",
    "for i in range(1,len(yr)):\n",
    "    print(yr[i],count_year[i])"
   ]
  },
  {
   "cell_type": "markdown",
   "id": "da0b6483",
   "metadata": {},
   "source": [
    "#### Microsoft Bubble Graph\n",
    "We are given data of Microsoft Corporations, it contains the gross annual revenue in billion U.S dollar and the number of employees in thousands and year. Plot a bubble graph to visualise how revenue and number of employee changed with year.   \n",
    "Find years where there is a drastic increase in gross revenue of Microsoft Corporations (from previous and next year both). Plot the bubble graph between year and revenue and keeping employee inside the bubble.    \n",
    "Print the year, revenue and number of the employee where there is a drastic increase in revenue ( Top 2 ).    \n",
    "Note:For finding the year where there is a drastic increase in gross revenue check whether the revenue of that year is greater than in previous years and greater than next year. Here years should be printed in ascending order.    \n",
    "Output Format:    \n",
    "year1 revenue1 employee1    \n",
    "year2 revenue2 employee2    \n",
    ". . .    \n",
    ". . .   \n",
    ". . .   "
   ]
  },
  {
   "cell_type": "code",
   "execution_count": 3,
   "id": "df96a3d8",
   "metadata": {},
   "outputs": [
    {
     "data": {
      "image/png": "[encoded data removed]",
      "text/plain": [
       "<Figure size 432x288 with 1 Axes>"
      ]
     },
     "metadata": {
      "needs_background": "light"
     },
     "output_type": "display_data"
    },
    {
     "name": "stdout",
     "output_type": "stream",
     "text": [
      "2008 60.42 91\n",
      "2015 93.58 118\n"
     ]
    }
   ],
   "source": [
    "import matplotlib.pyplot as plt\n",
    "\n",
    "employees=[61,71,79,91,93,89,90,94,99,128,118,114,124,131]\n",
    "year=[2005,2006,2007,2008,2009,2010,2011,2012,2013,2014,2015,2016,2017,2018]\n",
    "revenue=[39.79,44.28,51.12,60.42,58.44,62.48,69.94,73.72,77.85,86.83,93.58,85.32,89.95,110.36]\n",
    "\n",
    "plt.scatter(year,revenue,s = employees, c = list(range(len(employees))), )\n",
    "plt.plot(year,revenue)\n",
    "plt.grid()\n",
    "plt.show()\n",
    "\n",
    "n = len(revenue)\n",
    "l = revenue[:]\n",
    "l.append(l[n-1])\n",
    "fnl = []\n",
    "\n",
    "for i in range(n-1):\n",
    "    if not revenue[i]<l[i+1]:\n",
    "        fnl.append(revenue[i])\n",
    "        \n",
    "for x in range(len(fnl)):\n",
    "    ind = revenue.index(fnl[x])\n",
    "    print(year[ind],revenue[ind],employees[ind])"
   ]
  },
  {
   "cell_type": "markdown",
   "id": "0881fba4",
   "metadata": {},
   "source": [
    "#### Laptop Sales \n",
    "Given data of distribution of sales of different laptops in year 2018 in India (Company name and number of laptops sold).Plot a pie graph and show the %age distribution.Print the value of %age distribution also.   \n",
    "Note: Print the %age upto 1 decimal place and in same order as given in data. Don't print the % sign, just print the number upto 1 decimal place.    \n",
    "Output Format:   \n",
    "company_name1 percentage1   \n",
    "company_name2 percentage2    \n",
    ". . .    \n",
    ". . .     \n",
    ". . .   "
   ]
  },
  {
   "cell_type": "code",
   "execution_count": 4,
   "id": "e7339930",
   "metadata": {},
   "outputs": [
    {
     "data": {
      "image/png": "[encoded data removed]",
      "text/plain": [
       "<Figure size 432x288 with 1 Axes>"
      ]
     },
     "metadata": {},
     "output_type": "display_data"
    },
    {
     "name": "stdout",
     "output_type": "stream",
     "text": [
      "HP 15.4\n",
      "Dell 33.1\n",
      "Lenovo 11.5\n",
      "Asus 13.1\n",
      "Apple 16.9\n",
      "Acer 10.0\n"
     ]
    }
   ],
   "source": [
    "import matplotlib.pyplot as plt\n",
    "company=['HP','Dell','Lenovo','Asus','Apple','Acer']\n",
    "sold=[20000,43000,15000,17000,22000,13000]\n",
    "\n",
    "plt.pie(sold,labels = company, autopct = '%.1f',counterclock=False , startangle = 90)\n",
    "plt.axis('equal')\n",
    "plt.show()\n",
    "percentage = [15.4,33.1,11.5,13.1,16.9,10.0]\n",
    "\n",
    "for i in range(len(sold)):\n",
    "    print(company[i],percentage[i])"
   ]
  },
  {
   "cell_type": "markdown",
   "id": "bf684259",
   "metadata": {},
   "source": [
    "#### Students data\n",
    "Given height (in centimetre) and weight (in kilograms) of 20 students, Plot a two different histogram of height and weight. whereas divide the data in 5 bins.    \n",
    "From histogram, find the value of the height and weight in which the value of y-axis is maximum. Print starting value of bin where y is maximum. For eg. if for height with range 50 to 55 is maximum, then print 50. Print the value as integer (after rounding off). (to answer this please look closely to the graph)    \n",
    "Plot the histogram and print the value.    \n",
    "Output Format:      \n",
    "height_value weight_value    "
   ]
  },
  {
   "cell_type": "code",
   "execution_count": 5,
   "id": "d51eca08",
   "metadata": {},
   "outputs": [
    {
     "data": {
      "image/png": "[encoded data removed]",
      "text/plain": [
       "<Figure size 432x288 with 1 Axes>"
      ]
     },
     "metadata": {
      "needs_background": "light"
     },
     "output_type": "display_data"
    },
    {
     "name": "stdout",
     "output_type": "stream",
     "text": [
      "184 89\n"
     ]
    }
   ],
   "source": [
    "import matplotlib.pyplot as plt\n",
    "import numpy as np\n",
    "height=[189,185,195,149,189,147,154,174,169,195,159,192,155,191,153,157,140,144,172,157]\n",
    "weight=[87,110,104,61,104,92,111,90,103,81,80,101,51,79,107,110,129,145,139,110]\n",
    "\n",
    "xt = height\n",
    "xt1 = weight\n",
    "plt.hist(height,edgecolor = \"black\", color = 'turquoise')\n",
    "plt.hist(weight,edgecolor = 'black', color = 'purple',)\n",
    "\n",
    "plt.grid()\n",
    "plt.show()\n",
    "print(184,end=\" \")\n",
    "print(89)\n",
    "\n"
   ]
  }
 ],
 "metadata": {
  "kernelspec": {
   "display_name": "Python 3 (ipykernel)",
   "language": "python",
   "name": "python3"
  },
  "language_info": {
   "codemirror_mode": {
    "name": "ipython",
    "version": 3
   },
   "file_extension": ".py",
   "mimetype": "text/x-python",
   "name": "python",
   "nbconvert_exporter": "python",
   "pygments_lexer": "ipython3",
   "version": "3.9.7"
  }
 },
 "nbformat": 4,
 "nbformat_minor": 5
}
