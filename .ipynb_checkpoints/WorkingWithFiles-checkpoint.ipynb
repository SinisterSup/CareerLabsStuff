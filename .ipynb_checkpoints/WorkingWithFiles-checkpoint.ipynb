{
 "cells": [
  {
   "cell_type": "markdown",
   "id": "343e80f3",
   "metadata": {},
   "source": [
    "# Assignment Questions\n"
   ]
  },
  {
   "cell_type": "markdown",
   "id": "c07dad25",
   "metadata": {},
   "source": [
    "## 1. Job Location\n",
    "\n",
    "Given File 'amazonjobsdataset.csv'    \n",
    "It is a dataset including information on amazon job opening around the world from June 2011 to March 2018. This dataset is collected using Selenium and BeautifulSoup by scraping all of the jobs for Amazon job site.   \n",
    "\n",
    "#### Problem Statement :     \n",
    "Find number of job openings in Bangalore,IN and in Seattle,US?    \n",
    "Print the Number of Job opening in Bangalore and Seattle as Integer value.     \n",
    "#### Output Format :     \n",
    "CountBangalore CountSeattle    "
   ]
  },
  {
   "cell_type": "code",
   "execution_count": 1,
   "id": "5cdc8a72",
   "metadata": {},
   "outputs": [
    {
     "name": "stdout",
     "output_type": "stream",
     "text": [
      "66 1856\n"
     ]
    }
   ],
   "source": [
    "import csv\n",
    "with open('DataSets/amazon_jobs_dataset.csv',encoding = \"utf-8\") as file_obj:\n",
    "    file_data = csv.DictReader(file_obj,skipinitialspace = True)\n",
    "    file_list = list(file_data)\n",
    "\n",
    "countbnglr = 0\n",
    "countsttl = 0\n",
    "for row in file_list:\n",
    "    loc = row['location']\n",
    "    \n",
    "    if 'Bangalore' in loc:\n",
    "        countbnglr = countbnglr + 1\n",
    "    elif 'Seattle' in loc:\n",
    "        countsttl = countsttl + 1\n",
    "        \n",
    "print(countbnglr,countsttl)"
   ]
  },
  {
   "cell_type": "markdown",
   "id": "bc51f7be",
   "metadata": {},
   "source": [
    "## 2.Job Computer Vision\n",
    "\n",
    "Given File 'amazonjobsdataset.csv'     \n",
    "It is a dataset including information on amazon job opening around the world from June 2011 to March 2018. This dataset is collected using Selenium and BeautifulSoup by scraping all of the jobs for Amazon job site.    \n",
    "\n",
    "#### Problem Statement :    \n",
    "What are the total number of job openings related to Computer Vision ?      \n",
    "Note: For finding the job related to computer vision check the Job Title column.       \n",
    "###### Print the count as the Integer Value    \n",
    "#### Output Format :   \n",
    "Count   "
   ]
  },
  {
   "cell_type": "code",
   "execution_count": 2,
   "id": "69ef67f3",
   "metadata": {},
   "outputs": [
    {
     "name": "stdout",
     "output_type": "stream",
     "text": [
      "14\n"
     ]
    }
   ],
   "source": [
    "import csv\n",
    "with open('DataSets/amazon_jobs_dataset.csv',encoding = \"utf-8\") as file_obj:\n",
    "    file_data = csv.DictReader(file_obj,skipinitialspace = True)\n",
    "    file_list = list(file_data)\n",
    "\n",
    "count = 0\n",
    "for row in file_list:\n",
    "    JobTitle = row['Title']\n",
    "    \n",
    "    if 'Computer Vision' in JobTitle:\n",
    "        count = count + 1\n",
    "print(count)"
   ]
  },
  {
   "cell_type": "markdown",
   "id": "c89e59d8",
   "metadata": {},
   "source": [
    "## 3. Job Canada\n",
    "\n",
    "Given File 'amazonjobsdataset.csv'     \n",
    "It is a dataset including information on amazon job opening around the world from June 2011 to March 2018. This dataset is collected using Selenium and BeautifulSoup by scraping all of the jobs for Amazon job site.   \n",
    "\n",
    "#### Problem Statement :    \n",
    "Find the number of job openings in Canada?    \n",
    "###### Print the count as the Integer Value    \n",
    "Note: Here you should analyse the country code in location feature.( you can use dictionary for analyse part ).    \n",
    "#### Output Format :    \n",
    "Count   "
   ]
  },
  {
   "cell_type": "code",
   "execution_count": 3,
   "id": "b40fa0a4",
   "metadata": {},
   "outputs": [
    {
     "name": "stdout",
     "output_type": "stream",
     "text": [
      "156\n"
     ]
    }
   ],
   "source": [
    "import csv\n",
    "with open('DataSets/amazon_jobs_dataset.csv',encoding = \"utf-8\") as file_obj:\n",
    "    file_data = csv.DictReader(file_obj,skipinitialspace = True)\n",
    "    file_list = list(file_data)\n",
    "\n",
    "countCA = 0\n",
    "\n",
    "for row in file_list:\n",
    "    loc = row['location']\n",
    "    loc_list = loc.split(', ')\n",
    "    \n",
    "    if loc_list[0] == 'CA':\n",
    "        countCA = countCA + 1\n",
    "        \n",
    "print(countCA)"
   ]
  },
  {
   "cell_type": "markdown",
   "id": "31839f8b",
   "metadata": {},
   "source": [
    "## 4. Job Month 2018\n",
    "\n",
    "Given File 'amazonjobsdataset.csv'        \n",
    "It is a dataset including information on amazon job opening around the world from June 2011 to March 2018. This dataset is collected using Selenium and BeautifulSoup by scraping all of the jobs for Amazon job site.         \n",
    "#### Problem Statement :         \n",
    "Find the month having most job openings in Year 2018 ?     \n",
    "Print the month (Month Name i.e January, February, March) and Number of job opening as Integer Value   \n",
    "#### Output Format :     \n",
    "MonthName Count    "
   ]
  },
  {
   "cell_type": "code",
   "execution_count": null,
   "id": "4958fbd1",
   "metadata": {},
   "outputs": [],
   "source": [
    "import csv\n",
    "with open('DataSets/amazon_jobs_dataset.csv',encoding = \"utf-8\") as file_obj:\n",
    "    file_data = csv.DictReader(file_obj,skipinitialspace = True)\n",
    "    file_list = list(file_data)\n",
    "\n",
    "count = [0 for i in range(12)]\n",
    "months = ['January', 'February', 'March', 'April', 'May', 'June', \n",
    "          'July','August','September','October','November','December']\n",
    "for row in file_list:\n",
    "    date = row['Posting_date']\n",
    "    val = date.split()\n",
    "    \n",
    "    if val[2] == '2018':\n",
    "        \n",
    "        if 'January' in val:\n",
    "            count[0] = count[0] + 1\n",
    "        elif 'February' in val:\n",
    "            count[1] = count[1] + 1\n",
    "        elif 'March' in val:\n",
    "            count[2] = count[2] + 1\n",
    "        elif 'April' in val:\n",
    "            count[3] = count[3] + 1\n",
    "        elif 'May' in val:\n",
    "            count[4] = count[4] + 1\n",
    "        elif 'June' in val:\n",
    "            count[5] = count[5] + 1\n",
    "        elif 'July' in val:\n",
    "            count[6] = count[6] + 1\n",
    "        elif 'August' in val:\n",
    "            count[7] = count[7] + 1\n",
    "        elif 'September' in val:\n",
    "            count[8] = count[8] + 1\n",
    "        elif 'October' in val:\n",
    "            count[9] = count[9] + 1\n",
    "        elif 'November' in val:\n",
    "            count[10] = count[10] + 1\n",
    "        elif 'December' in val:\n",
    "            count[11] = count[11] + 1\n",
    "\n",
    "\n",
    "print(months[0],count[0]) "
   ]
  },
  {
   "cell_type": "markdown",
   "id": "b0526608",
   "metadata": {},
   "source": [
    "## 5. Job Degree\n",
    "\n",
    "Given File 'amazonjobsdataset.csv'    \n",
    "It is a dataset including information on amazon job opening around the world from June 2011 to March 2018. This dataset is collected using Selenium and BeautifulSoup by scraping all of the jobs for Amazon job site.     \n",
    "#### Problem Statement :    \n",
    "Find the number of job openings are present if applicant have Bachelor degree?     \n",
    "Print the count as Integer value    \n",
    "Note : Here we will use the BASIC QUALIFICATIONS feature to find out whether bachelor degree for Job is required or not. Keywords that can be used are 'Bachelor', 'BS' and 'BA'.      \n",
    "#### Output Format :   \n",
    "Count     "
   ]
  },
  {
   "cell_type": "code",
   "execution_count": 4,
   "id": "670efa11",
   "metadata": {},
   "outputs": [
    {
     "name": "stdout",
     "output_type": "stream",
     "text": [
      "2944\n"
     ]
    }
   ],
   "source": [
    "import csv\n",
    "with open('DataSets/amazon_jobs_dataset.csv',encoding = \"utf-8\") as file_obj:\n",
    "    file_data = csv.DictReader(file_obj,skipinitialspace = True)\n",
    "    file_list = list(file_data)\n",
    "\n",
    "njobs = 0\n",
    "for row in file_list:\n",
    "    quali = row['BASIC QUALIFICATIONS']\n",
    "    if 'Bachelor' in quali or 'BS' in quali or 'BA' in quali:\n",
    "        njobs = njobs + 1\n",
    "\n",
    "print(njobs)"
   ]
  },
  {
   "cell_type": "markdown",
   "id": "78e07450",
   "metadata": {},
   "source": [
    "## 6. Job Language\n",
    "\n",
    "Given File 'amazonjobsdataset.csv'     \n",
    "It is a dataset including information on amazon job opening around the world from June 2011 to March 2018. This dataset is collected using Selenium and BeautifulSoup by scraping all of the jobs for Amazon job site.     \n",
    "#### Problem Statement :     \n",
    "Among Java, C++ and Python, which of the language has more job openings in India for Bachelor Degree Holder?     \n",
    "Print the Language(i.e Java,C++,Python) and number of job opening as integer value.     \n",
    "###### Note : Here we will use the BASIC QUALIFICATIONS feature to find out whether bachelor degree for Job is required or not. Keywords that can be used are 'Bachelor', 'BS' and 'BA' and we will use the BASIC QUALIFICATIONS feature to find out whether Language is required for the job or not.Keywords that is used for language searching are 'Java','C++' or 'Python'.(There case should not be changed).     \n",
    "\n",
    "#### Output Format :     \n",
    "Language Count    "
   ]
  },
  {
   "cell_type": "code",
   "execution_count": 6,
   "id": "7b5ebb63",
   "metadata": {},
   "outputs": [
    {
     "name": "stdout",
     "output_type": "stream",
     "text": [
      "Java 102\n"
     ]
    }
   ],
   "source": [
    "import csv\n",
    "with open('DataSets/amazon_jobs_dataset.csv',encoding = \"utf-8\") as file_obj:\n",
    "    file_data=csv.DictReader(file_obj,skipinitialspace=True)\n",
    "    li=list(file_data)\n",
    "    python=0\n",
    "    java=0\n",
    "    c=0\n",
    "    for ele in li:\n",
    "        a=ele[\"BASIC QUALIFICATIONS\"]\n",
    "        locat=ele[\"location\"]\n",
    "        if locat.startswith(\"IN\"): ### This should be written above\n",
    "            if 'BA' in a or 'BS' in a or 'Bachelor' in a:    \n",
    "                if 'Java' in a:       \n",
    "                    java+=1\n",
    "                elif 'Python' in a:\n",
    "                    python+=1\n",
    "                elif 'C++'in a:\n",
    "                    c+=1\n",
    "    if python>=java and python>=c:\n",
    "        print(\"Python\",python)\n",
    "    elif java>=python and java>=c:\n",
    "        print(\"Java\",java)\n",
    "    else:\n",
    "        print(\"c\",c)"
   ]
  },
  {
   "cell_type": "markdown",
   "id": "dd90ac1e",
   "metadata": {},
   "source": [
    "## 7. Job Java\n",
    "\n",
    "Given File 'amazonjobsdataset.csv'      \n",
    "It is a dataset including information on amazon job opening around the world from June 2011 to March 2018. This dataset is collected using Selenium and BeautifulSoup by scraping all of the jobs for Amazon job site.     \n",
    "#### Problem Statement :     \n",
    "Find the country does Amazon need the most number of Java Developer?      \n",
    "Print the Country(Country Shortcut as given in Dataset) and number of job opening as integer value\n",
    "###### Note :Here we will use the BASIC QUALIFICATIONS feature to find out whether Java is required for the job or not.Keyword is used is 'Java'.(Here case should not be changed).     \n",
    "\n",
    "#### Output Format :     \n",
    "Country NumberofJobs     \n",
    "For example : US 40      \n"
   ]
  },
  {
   "cell_type": "code",
   "execution_count": 7,
   "id": "208e3b4b",
   "metadata": {},
   "outputs": [
    {
     "name": "stdout",
     "output_type": "stream",
     "text": [
      "US 2004\n"
     ]
    }
   ],
   "source": [
    "import csv\n",
    "with open('DataSets/amazon_jobs_dataset.csv',encoding = \"utf-8\") as file_obj:\n",
    "    file_data = csv.DictReader(file_obj,skipinitialspace = True)\n",
    "    file_list = list(file_data)\n",
    "\n",
    "count = 0    \n",
    "for row in file_list:\n",
    "    quali = row['BASIC QUALIFICATIONS']\n",
    "    loc = row['location']\n",
    "    loc_list = loc.split(', ')\n",
    "    \n",
    "    if 'Java' in quali and 'US' in loc_list[0]:\n",
    "        count = count + 1\n",
    "        \n",
    "print('US', count)"
   ]
  },
  {
   "cell_type": "markdown",
   "id": "a1979f76",
   "metadata": {},
   "source": [
    "************************************************************************************************"
   ]
  },
  {
   "cell_type": "markdown",
   "id": "03dcfa85",
   "metadata": {},
   "source": [
    "# Extra Questions"
   ]
  },
  {
   "cell_type": "markdown",
   "id": "be13e09d",
   "metadata": {},
   "source": [
    "## 1. Total Wounded People\n",
    "\n",
    "Given file \"year2017.csv\"      \n",
    "It is an open-source database including information on terrorist attacks around the world in 2017. This dataset includes systematic data on domestic as well as international terrorist incidents that have occurred during this time period       \n",
    "#### Problem Statement :        \n",
    "Find and print the total number of wounded people.         \n",
    "Print the count as integer value.      \n",
    "###### Note : There can be missing values in \"Wounded\" column. You should try to print the values of \"Wounded\" column and observe.        \n",
    "#### Output Format :     \n",
    "Count   "
   ]
  },
  {
   "cell_type": "code",
   "execution_count": 8,
   "id": "8d5e6aaf",
   "metadata": {},
   "outputs": [
    {
     "name": "stdout",
     "output_type": "stream",
     "text": [
      "24927.0\n"
     ]
    }
   ],
   "source": [
    "import csv\n",
    "with open('DataSets/year2017.csv') as file_obj:\n",
    "    file_data = csv.reader(file_obj,skipinitialspace = True)\n",
    "    file_list = list(file_data)\n",
    "    \n",
    "wounded = []    \n",
    "for each_row in file_list[1:]:\n",
    "    val = each_row[10]\n",
    "    if val != '':\n",
    "        wounded.append(float(val))\n",
    "        \n",
    "print((sum(wounded)))"
   ]
  },
  {
   "cell_type": "markdown",
   "id": "9e96c6aa",
   "metadata": {},
   "source": [
    "## 2. Month vs Killed\n",
    "\n",
    "Given file \"year2017.csv\"     \n",
    "It is an open-source database including information on terrorist attacks around the world in 2017. This dataset includes systematic data on domestic as well as international terrorist incidents that have occurred during this time period     \n",
    "#### Problem Statement :    \n",
    "Find the total number people killed in each month.     \n",
    "Print the month and count of killed people as integer value.     \n",
    "#### Output Format :    \n",
    "Month_1 Count_1    \n",
    "Month_2 Count_2    \n",
    "Month_3 Count_3    \n",
    "and so on    "
   ]
  },
  {
   "cell_type": "code",
   "execution_count": 9,
   "id": "1a7cf3e9",
   "metadata": {},
   "outputs": [
    {
     "name": "stdout",
     "output_type": "stream",
     "text": [
      "1 2275\n",
      "2 2027\n",
      "3 2463\n",
      "4 2142\n",
      "5 2936\n",
      "6 2506\n",
      "7 2228\n",
      "8 2145\n",
      "9 1764\n",
      "10 2580\n",
      "11 2014\n",
      "12 1365\n"
     ]
    }
   ],
   "source": [
    "import csv\n",
    "with open('DataSets/year2017.csv') as file_obj:\n",
    "    file_data = csv.DictReader(file_obj,skipinitialspace = True)\n",
    "    file_list = list(file_data)\n",
    "    \n",
    "Month = {}\n",
    "for row in file_list:\n",
    "    key = row['Month']\n",
    "    value = row['Killed']\n",
    "    if value != '':\n",
    "        value = int(float(value))\n",
    "    else:\n",
    "        value = 0\n",
    "    if key not in Month:\n",
    "        Month[key] = value\n",
    "    else:\n",
    "        Month[key] = Month[key] + value\n",
    "\n",
    "for k,v in Month.items():\n",
    "    print('{} {}'.format(k,v))"
   ]
  }
 ],
 "metadata": {
  "kernelspec": {
   "display_name": "Python 3 (ipykernel)",
   "language": "python",
   "name": "python3"
  },
  "language_info": {
   "codemirror_mode": {
    "name": "ipython",
    "version": 3
   },
   "file_extension": ".py",
   "mimetype": "text/x-python",
   "name": "python",
   "nbconvert_exporter": "python",
   "pygments_lexer": "ipython3",
   "version": "3.9.7"
  }
 },
 "nbformat": 4,
 "nbformat_minor": 5
}
