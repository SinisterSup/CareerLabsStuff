{
 "cells": [
  {
   "cell_type": "markdown",
   "id": "20c99cf5",
   "metadata": {},
   "source": [
    "## Assignment Questions"
   ]
  },
  {
   "cell_type": "markdown",
   "id": "18233018",
   "metadata": {},
   "source": [
    "### 1.Terrorism Day\n",
    "Problem Statement :   \n",
    "Find the number of attack held between day 10 and day 20?(ignoring the year and month)(including both day)   \n",
    "Print count of NumberOFAttack as integer value.   \n",
    "Output Format :   \n",
    "count   "
   ]
  },
  {
   "cell_type": "code",
   "execution_count": null,
   "id": "d9381ba0",
   "metadata": {},
   "outputs": [],
   "source": [
    "import numpy as np\n",
    "import csv\n",
    "\n",
    "file_obj = open('terrorismData.csv',encoding = \"utf-8\") \n",
    "file_data = csv.DictReader(file_obj,skipinitialspace = True)    \n",
    "\n",
    "day = []\n",
    "\n",
    "for row in file_data:\n",
    "    day.append(row['Day'])\n",
    "\n",
    "np_day = np.array(day)\n",
    "np_day[np_day == ''] = 0\n",
    "np_day = np.array(np_day,dtype = 'float')\n",
    "np_day = np.array(np_day,dtype = 'int')\n",
    "\n",
    "attack_days = np_day[(np_day>=10) & (np_day<=20)]\n",
    "\n",
    "print(attack_days.size)"
   ]
  },
  {
   "cell_type": "markdown",
   "id": "6cbd77bf",
   "metadata": {},
   "source": [
    "### 2.Terrorism Date\n",
    "Problem Statement :   \n",
    "Find the number of attack held between 1 Jan 2010 and 31 Jan 2010?(including both date).   \n",
    "Note Ignore the case where day is 0   \n",
    "Print count of NumberOFAttack as integer value.  \n",
    "Output Format :   \n",
    "count  "
   ]
  },
  {
   "cell_type": "code",
   "execution_count": null,
   "id": "26cc2ee4",
   "metadata": {},
   "outputs": [],
   "source": [
    "import numpy as np\n",
    "import csv\n",
    "\n",
    "file_obj = open('terrorismData.csv',encoding = \"utf-8\") \n",
    "file_data = csv.DictReader(file_obj,skipinitialspace = True)    \n",
    "\n",
    "day = []\n",
    "month = []\n",
    "year = []\n",
    "\n",
    "for row in file_data:\n",
    "    day.append(row['Day'])\n",
    "    month.append(row['Month'])\n",
    "    year.append(row['Year'])\n",
    "    \n",
    "np_day = np.array(day)\n",
    "np_month = np.array(month)\n",
    "np_year = np.array(year)\n",
    "np_day[np_day == ''] = 0\n",
    "np_month[np_month == ''] = 0\n",
    "np_year[np_year == ''] = 0\n",
    "np_day = np.array(np_day,dtype = 'float')\n",
    "np_day = np.array(np_day,dtype = 'int')\n",
    "np_month = np.array(np_month,dtype = 'float')\n",
    "np_month = np.array(np_month,dtype = 'int')\n",
    "np_year = np.array(np_year,dtype = 'float')\n",
    "np_year = np.array(np_year,dtype = 'int')\n",
    "\n",
    "attack_days = np_day[(np_year == 2010)&(np_month == 1)&(np_day>=1)&(np_day<=31)]\n",
    "\n",
    "print(attack_days.size)"
   ]
  },
  {
   "cell_type": "markdown",
   "id": "cbb7dd87",
   "metadata": {},
   "source": [
    "### 3. Terror Casualty Attack\n",
    "Problem Statement :    \n",
    "As we knew the Kargil ( in Jammu and Kashmir) War that took place between May 1999 and July 1999 (3 Months) ,so there was a huge conflict in Kashmir Valley during this period.    \n",
    "In this dataset, there is no information regarding the war between the two countries to find out the casualty during the war.    \n",
    "So find out the attack in this period in which maximum casualties happened.   \n",
    "Print the count of casualties (as integer), city in which that attack happened and name of attack group.   \n",
    "Note : Casualty = Killed + Wounded.Fill the empty value in killed or wounded feature to 0.   \n",
    "Output Format :   \n",
    "Casualty City TerroristGroup  "
   ]
  },
  {
   "cell_type": "code",
   "execution_count": null,
   "id": "19827631",
   "metadata": {},
   "outputs": [],
   "source": [
    "import csv \n",
    "import numpy as np\n",
    "path='terrorismData.csv'\n",
    "casualty=[]\n",
    "month=[]\n",
    "city=[]\n",
    "## Here we filter out the data\n",
    "with open(path, 'r',encoding='ISO-8859-1') as data:\n",
    "    reader = csv.DictReader(data)\n",
    "    for row in reader:\n",
    "        if row['State']=='Jammu and Kashmir' and row['Year']=='1999':\n",
    "            if row['Month']=='5' or row['Month']=='6' or row['Month']==7:\n",
    "                city.append([row['City'],row['Group']])\n",
    "                casualty.append([row['Killed'],row['Wounded']])\n",
    "npcasualty=np.array(casualty)\n",
    "npcity=np.array(city)\n",
    "## Coverting the empty values present in Killed and wounded feature to Zero\n",
    "npcasualty[npcasualty=='']=0\n",
    "## Converting the string value to float\n",
    "npcasualty=np.array(npcasualty,dtype=float)\n",
    "## Now Summing up the Killed and wounded feature to find out the casualty \n",
    "npcasualty=np.sum(npcasualty,axis=1)\n",
    "index=np.argmax(npcasualty)\n",
    "print(int(npcasualty[index]),npcity[index][0],npcity[index][1])"
   ]
  },
  {
   "cell_type": "markdown",
   "id": "dce82f5d",
   "metadata": {},
   "source": [
    "### 4. Terror Casualty Red\n",
    "Problem Statement :   \n",
    "Find the casualty in the Red Corridor States ? Mainly Red corridor states include Jharkhand, Odisha, Andhra Pradesh, and Chhattisgarh.    \n",
    "Note: Casualty=Killed +Wounded   \n",
    "Print count of Casualty as integer value.   \n",
    "Output Format :   \n",
    "Count  "
   ]
  },
  {
   "cell_type": "code",
   "execution_count": null,
   "id": "41c2919b",
   "metadata": {},
   "outputs": [],
   "source": [
    "import csv\n",
    "import numpy as np\n",
    "\n",
    "killed = []\n",
    "wounded = []\n",
    "state = []\n",
    "red_state = ['Jharkhand', 'Odisha', 'Andhra Pradesh', 'Chhattisgarh']\n",
    "\n",
    "with open('terrorismData.csv',encoding = 'utf-8') as file_obj:\n",
    "    data = csv.DictReader(file_obj, skipinitialspace = True)\n",
    "    \n",
    "    for row in data:\n",
    "        if row['State'] in red_state:\n",
    "            killed.append(row['Killed'])\n",
    "            wounded.append(row['Wounded'])\n",
    "            state.append(row['State'])\n",
    "\n",
    "np_killed = np.array(killed)\n",
    "np_wounded = np.array(wounded)\n",
    "np_killed[np_killed == ''] = 0\n",
    "np_wounded[np_wounded == ''] = 0\n",
    "np_killed = np.array(np_killed,dtype=float)\n",
    "np_wounded = np.array(np_wounded,dtype=float)\n",
    "np_casualty = np_killed + np_wounded\n",
    "np_casualty = np.array(np_casualty,dtype=int)\n",
    "\n",
    "print(np_casualty.sum())"
   ]
  },
  {
   "cell_type": "markdown",
   "id": "9f00ca40",
   "metadata": {},
   "source": [
    "### 6. Terrorism FrequentDay\n",
    "Problem Statement :   \n",
    "Find the most frequent day of attack in a terrorismDataset ?    \n",
    "Note: Here np.unique can be used.   \n",
    "Print count of frequent day and number of attack as Integer value.    \n",
    "Output Format :   \n",
    "Day NumberOFAttack    "
   ]
  },
  {
   "cell_type": "code",
   "execution_count": null,
   "id": "d240f048",
   "metadata": {},
   "outputs": [],
   "source": [
    "import numpy as np\n",
    "import csv\n",
    "\n",
    "file_obj = open('terrorismData.csv',encoding = \"utf-8\") \n",
    "file_data = csv.DictReader(file_obj,skipinitialspace = True)    \n",
    "\n",
    "day = []\n",
    "\n",
    "for row in file_data:\n",
    "    day.append(row['Day'])\n",
    "\n",
    "np_day = np.array(day)\n",
    "np_day[np_day == ''] = 0\n",
    "np_day = np.array(np_day,dtype = 'float')\n",
    "np_day = np.array(np_day,dtype = 'int')\n",
    "\n",
    "ele,counts = np.unique(np_day,return_counts=True)\n",
    "fnl = np.array([ele,counts],dtype = 'int')\n",
    "\n",
    "print(fnl[1].argmax(),fnl[1].max())"
   ]
  },
  {
   "cell_type": "markdown",
   "id": "a912785d",
   "metadata": {},
   "source": [
    "# #########################################"
   ]
  },
  {
   "cell_type": "markdown",
   "id": "9cab9190",
   "metadata": {},
   "source": [
    "#### Total Killed in USA\n",
    "Problem Statement :   \n",
    "Find total number of people killed from USA?   \n",
    "Note: Some columns of killed are empty so replace them by 0.   \n",
    "Print count of Killed as integer value.   \n",
    "Output Format :   \n",
    "TotalKilled   "
   ]
  },
  {
   "cell_type": "code",
   "execution_count": null,
   "id": "194a8967",
   "metadata": {},
   "outputs": [],
   "source": [
    "import numpy as np\n",
    "import csv\n",
    "\n",
    "file_obj = open('terrorismData.csv',encoding = \"utf-8\") \n",
    "file_data = csv.DictReader(file_obj,skipinitialspace = True)\n",
    "    \n",
    "killed = []\n",
    "country = []\n",
    "for row in file_data:\n",
    "    killed.append(row['Killed'])\n",
    "    country.append(row['Country'])\n",
    "\n",
    "np_killed = np.array(killed)\n",
    "np_country = np.array(country)\n",
    "np_killed[np_killed == ''] = 0\n",
    "np_country[np_country== ''] = 0\n",
    "np_killed = np.array(np_killed,dtype='float')\n",
    "np_killed = np.array(np_killed,dtype='int')\n",
    "\n",
    "usa_killed = np_killed[np_country == 'United States']\n",
    "total_kills = np.sum(usa_killed)\n",
    "\n",
    "print(total_kills)"
   ]
  },
  {
   "cell_type": "markdown",
   "id": "23738c59",
   "metadata": {},
   "source": [
    "#### Killed in USA\n",
    "Problem Statement :   \n",
    "Find value of killed column only where country == ‘United States’?   \n",
    "Print 0 in place of missing values.   \n",
    "Print count of Killed as integer value.   \n",
    "Output Format :   \n",
    "Killed1  \n",
    "Killed2   \n",
    "Killed3  \n",
    "Killed4   "
   ]
  },
  {
   "cell_type": "code",
   "execution_count": null,
   "id": "d2e197e6",
   "metadata": {},
   "outputs": [],
   "source": [
    "import numpy as np\n",
    "import csv\n",
    "\n",
    "with open('terrorismData.csv',encoding = \"utf-8\") as file_obj:\n",
    "    file_data = csv.DictReader(file_obj,skipinitialspace = True)\n",
    "    file_list = list(file_data)\n",
    "    \n",
    "killed = []\n",
    "country = []\n",
    "\n",
    "for row in file_list:\n",
    "    killed.append(row['Killed'])\n",
    "    country.append(row['Country'])\n",
    "\n",
    "np_killed = np.array(killed)\n",
    "np_country = np.array(country)\n",
    "np_killed[np_killed == ''] = 0\n",
    "np_country[np_country== ''] = 0\n",
    "\n",
    "np_killed = np.array(np_killed,dtype='float')\n",
    "np_killed = np.array(np_killed,dtype='int')\n",
    "\n",
    "for kills in np_killed[np_country == 'United States']:\n",
    "    print(kills)"
   ]
  }
 ],
 "metadata": {
  "kernelspec": {
   "display_name": "Python 3 (ipykernel)",
   "language": "python",
   "name": "python3"
  },
  "language_info": {
   "codemirror_mode": {
    "name": "ipython",
    "version": 3
   },
   "file_extension": ".py",
   "mimetype": "text/x-python",
   "name": "python",
   "nbconvert_exporter": "python",
   "pygments_lexer": "ipython3",
   "version": "3.9.7"
  }
 },
 "nbformat": 4,
 "nbformat_minor": 5
}
