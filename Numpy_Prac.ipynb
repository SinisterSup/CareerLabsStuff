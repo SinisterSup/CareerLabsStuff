{
 "cells": [
  {
   "cell_type": "markdown",
   "id": "d9efb8fa",
   "metadata": {},
   "source": [
    "## Assignment Questions"
   ]
  },
  {
   "cell_type": "markdown",
   "id": "2b4f1356",
   "metadata": {},
   "source": [
    "### 1.Terrorism Day\n",
    "Problem Statement :   \n",
    "Find the number of attack held between day 10 and day 20?(ignoring the year and month)(including both day)   \n",
    "Print count of NumberOFAttack as integer value.   \n",
    "Output Format :   \n",
    "count   "
   ]
  }
 ],
 "metadata": {
  "kernelspec": {
   "display_name": "Python 3 (ipykernel)",
   "language": "python",
   "name": "python3"
  },
  "language_info": {
   "codemirror_mode": {
    "name": "ipython",
    "version": 3
   },
   "file_extension": ".py",
   "mimetype": "text/x-python",
   "name": "python",
   "nbconvert_exporter": "python",
   "pygments_lexer": "ipython3",
   "version": "3.9.7"
  }
 },
 "nbformat": 4,
 "nbformat_minor": 5
}
